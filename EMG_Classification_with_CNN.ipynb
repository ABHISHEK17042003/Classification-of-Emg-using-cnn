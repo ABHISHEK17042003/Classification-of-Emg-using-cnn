{
  "metadata": {
    "kernelspec": {
      "language": "python",
      "display_name": "Python 3",
      "name": "python3"
    },
    "language_info": {
      "name": "python",
      "version": "3.10.12",
      "mimetype": "text/x-python",
      "codemirror_mode": {
        "name": "ipython",
        "version": 3
      },
      "pygments_lexer": "ipython3",
      "nbconvert_exporter": "python",
      "file_extension": ".py"
    },
    "kaggle": {
      "accelerator": "none",
      "dataSources": [
        {
          "sourceId": 1306261,
          "sourceType": "datasetVersion",
          "datasetId": 756231
        }
      ],
      "dockerImageVersionId": 30635,
      "isInternetEnabled": false,
      "language": "python",
      "sourceType": "notebook",
      "isGpuEnabled": false
    },
    "colab": {
      "name": "EMG Classification with CNN",
      "provenance": [],
      "include_colab_link": true
    }
  },
  "nbformat_minor": 0,
  "nbformat": 4,
  "cells": [
    {
      "cell_type": "markdown",
      "metadata": {
        "id": "view-in-github",
        "colab_type": "text"
      },
      "source": [
        "<a href=\"https://colab.research.google.com/github/ABHISHEK17042003/Classification-of-Emg-using-cnn/blob/main/EMG_Classification_with_CNN.ipynb\" target=\"_parent\"><img src=\"https://colab.research.google.com/assets/colab-badge.svg\" alt=\"Open In Colab\"/></a>"
      ]
    },
    {
      "source": [
        "\n",
        "# IMPORTANT: RUN THIS CELL IN ORDER TO IMPORT YOUR KAGGLE DATA SOURCES\n",
        "# TO THE CORRECT LOCATION (/kaggle/input) IN YOUR NOTEBOOK,\n",
        "# THEN FEEL FREE TO DELETE THIS CELL.\n",
        "# NOTE: THIS NOTEBOOK ENVIRONMENT DIFFERS FROM KAGGLE'S PYTHON\n",
        "# ENVIRONMENT SO THERE MAY BE MISSING LIBRARIES USED BY YOUR\n",
        "# NOTEBOOK.\n",
        "\n",
        "import os\n",
        "import sys\n",
        "from tempfile import NamedTemporaryFile\n",
        "from urllib.request import urlopen\n",
        "from urllib.parse import unquote, urlparse\n",
        "from urllib.error import HTTPError\n",
        "from zipfile import ZipFile\n",
        "import tarfile\n",
        "import shutil\n",
        "\n",
        "CHUNK_SIZE = 40960\n",
        "DATA_SOURCE_MAPPING = 'emg-signal-for-gesture-recognition:https%3A%2F%2Fstorage.googleapis.com%2Fkaggle-data-sets%2F756231%2F1306261%2Fbundle%2Farchive.zip%3FX-Goog-Algorithm%3DGOOG4-RSA-SHA256%26X-Goog-Credential%3Dgcp-kaggle-com%2540kaggle-161607.iam.gserviceaccount.com%252F20240203%252Fauto%252Fstorage%252Fgoog4_request%26X-Goog-Date%3D20240203T135816Z%26X-Goog-Expires%3D259200%26X-Goog-SignedHeaders%3Dhost%26X-Goog-Signature%3D6712b2d068d18a396874b7e52f551443c98d4bdf43f9a2c86a043fe092b6de510655f0fff1aa084fdc3aa7e2c13312618cbb7e3995547281cf53ac002cf4220c48e701aeaa460c60f416d7ac1f5d204248aca3b5c5f9f06537c47826832a4e758a4e467b87fcee22e114ab1f5e91af026692ed6747b493d3b32bd21446da1bd7eb0f81ff7663f38bd68f4ed8980fe3be6f5f43d20b849ceb466312d6ce60a936aec0b74b3e9470853c2f7dfcfe17d540459377b7ebaa7bb38b479b46239745358a92d9ffedaf686c13fb93dad289ef2215b3c32f8fecc7d164860e04a3e26599d8308df988ef28328f8884d773dbd913aa7bfee53dd2b8f9895db8adb0984684'\n",
        "\n",
        "KAGGLE_INPUT_PATH='/kaggle/input'\n",
        "KAGGLE_WORKING_PATH='/kaggle/working'\n",
        "KAGGLE_SYMLINK='kaggle'\n",
        "\n",
        "!umount /kaggle/input/ 2> /dev/null\n",
        "shutil.rmtree('/kaggle/input', ignore_errors=True)\n",
        "os.makedirs(KAGGLE_INPUT_PATH, 0o777, exist_ok=True)\n",
        "os.makedirs(KAGGLE_WORKING_PATH, 0o777, exist_ok=True)\n",
        "\n",
        "try:\n",
        "  os.symlink(KAGGLE_INPUT_PATH, os.path.join(\"..\", 'input'), target_is_directory=True)\n",
        "except FileExistsError:\n",
        "  pass\n",
        "try:\n",
        "  os.symlink(KAGGLE_WORKING_PATH, os.path.join(\"..\", 'working'), target_is_directory=True)\n",
        "except FileExistsError:\n",
        "  pass\n",
        "\n",
        "for data_source_mapping in DATA_SOURCE_MAPPING.split(','):\n",
        "    directory, download_url_encoded = data_source_mapping.split(':')\n",
        "    download_url = unquote(download_url_encoded)\n",
        "    filename = urlparse(download_url).path\n",
        "    destination_path = os.path.join(KAGGLE_INPUT_PATH, directory)\n",
        "    try:\n",
        "        with urlopen(download_url) as fileres, NamedTemporaryFile() as tfile:\n",
        "            total_length = fileres.headers['content-length']\n",
        "            print(f'Downloading {directory}, {total_length} bytes compressed')\n",
        "            dl = 0\n",
        "            data = fileres.read(CHUNK_SIZE)\n",
        "            while len(data) > 0:\n",
        "                dl += len(data)\n",
        "                tfile.write(data)\n",
        "                done = int(50 * dl / int(total_length))\n",
        "                sys.stdout.write(f\"\\r[{'=' * done}{' ' * (50-done)}] {dl} bytes downloaded\")\n",
        "                sys.stdout.flush()\n",
        "                data = fileres.read(CHUNK_SIZE)\n",
        "            if filename.endswith('.zip'):\n",
        "              with ZipFile(tfile) as zfile:\n",
        "                zfile.extractall(destination_path)\n",
        "            else:\n",
        "              with tarfile.open(tfile.name) as tarfile:\n",
        "                tarfile.extractall(destination_path)\n",
        "            print(f'\\nDownloaded and uncompressed: {directory}')\n",
        "    except HTTPError as e:\n",
        "        print(f'Failed to load (likely expired) {download_url} to path {destination_path}')\n",
        "        continue\n",
        "    except OSError as e:\n",
        "        print(f'Failed to load {download_url} to path {destination_path}')\n",
        "        continue\n",
        "\n",
        "print('Data source import complete.')\n"
      ],
      "metadata": {
        "id": "etb52kgba02I"
      },
      "cell_type": "code",
      "outputs": [],
      "execution_count": null
    },
    {
      "cell_type": "code",
      "source": [
        "import pandas as pd\n",
        "import random\n",
        "import csv\n",
        "import numpy as np"
      ],
      "metadata": {
        "_uuid": "8f2839f25d086af736a60e9eeb907d3b93b6e0e5",
        "_cell_guid": "b1076dfc-b9ad-4769-8c92-a6c4dae69d19",
        "execution": {
          "iopub.status.busy": "2024-01-12T11:19:12.872841Z",
          "iopub.execute_input": "2024-01-12T11:19:12.873275Z",
          "iopub.status.idle": "2024-01-12T11:19:13.377222Z",
          "shell.execute_reply.started": "2024-01-12T11:19:12.873231Z",
          "shell.execute_reply": "2024-01-12T11:19:13.375831Z"
        },
        "trusted": true,
        "id": "NnzJ-onea02N"
      },
      "execution_count": null,
      "outputs": []
    },
    {
      "cell_type": "code",
      "source": [
        "project_dataset_dir = '/kaggle/input/emg-signal-for-gesture-recognition/EMG-data.csv'\n",
        "df = pd.read_csv(project_dataset_dir)"
      ],
      "metadata": {
        "execution": {
          "iopub.status.busy": "2024-01-12T11:19:13.379308Z",
          "iopub.execute_input": "2024-01-12T11:19:13.379943Z",
          "iopub.status.idle": "2024-01-12T11:19:22.825687Z",
          "shell.execute_reply.started": "2024-01-12T11:19:13.379908Z",
          "shell.execute_reply": "2024-01-12T11:19:22.824357Z"
        },
        "trusted": true,
        "id": "p5gNf1Goa02P"
      },
      "execution_count": null,
      "outputs": []
    },
    {
      "cell_type": "code",
      "source": [
        "df.info()"
      ],
      "metadata": {
        "execution": {
          "iopub.status.busy": "2024-01-12T11:19:22.827144Z",
          "iopub.execute_input": "2024-01-12T11:19:22.82775Z",
          "iopub.status.idle": "2024-01-12T11:19:22.865303Z",
          "shell.execute_reply.started": "2024-01-12T11:19:22.827702Z",
          "shell.execute_reply": "2024-01-12T11:19:22.864294Z"
        },
        "trusted": true,
        "id": "u5lzaS9fa02Q"
      },
      "execution_count": null,
      "outputs": []
    },
    {
      "cell_type": "code",
      "source": [
        "df.drop('time', inplace=True, axis=1)\n",
        "\n",
        "df.head()"
      ],
      "metadata": {
        "execution": {
          "iopub.status.busy": "2024-01-12T11:19:22.868391Z",
          "iopub.execute_input": "2024-01-12T11:19:22.86912Z",
          "iopub.status.idle": "2024-01-12T11:19:23.088708Z",
          "shell.execute_reply.started": "2024-01-12T11:19:22.869076Z",
          "shell.execute_reply": "2024-01-12T11:19:23.087492Z"
        },
        "trusted": true,
        "id": "e_5ZYsdba02Q"
      },
      "execution_count": null,
      "outputs": []
    },
    {
      "cell_type": "code",
      "source": [
        "df.info()\n",
        "len(df)"
      ],
      "metadata": {
        "execution": {
          "iopub.status.busy": "2024-01-12T11:19:23.090855Z",
          "iopub.execute_input": "2024-01-12T11:19:23.091215Z",
          "iopub.status.idle": "2024-01-12T11:19:23.107985Z",
          "shell.execute_reply.started": "2024-01-12T11:19:23.091184Z",
          "shell.execute_reply": "2024-01-12T11:19:23.106594Z"
        },
        "trusted": true,
        "id": "qjLjA6mQa02R"
      },
      "execution_count": null,
      "outputs": []
    },
    {
      "cell_type": "code",
      "source": [
        "df.isna().sum() # check null dataset"
      ],
      "metadata": {
        "execution": {
          "iopub.status.busy": "2024-01-12T11:19:23.109939Z",
          "iopub.execute_input": "2024-01-12T11:19:23.110436Z",
          "iopub.status.idle": "2024-01-12T11:19:23.193605Z",
          "shell.execute_reply.started": "2024-01-12T11:19:23.110388Z",
          "shell.execute_reply": "2024-01-12T11:19:23.192174Z"
        },
        "trusted": true,
        "id": "2pWhTVVZa02R"
      },
      "execution_count": null,
      "outputs": []
    },
    {
      "cell_type": "code",
      "source": [
        "print(df['class'].value_counts())"
      ],
      "metadata": {
        "execution": {
          "iopub.status.busy": "2024-01-12T11:19:23.195406Z",
          "iopub.execute_input": "2024-01-12T11:19:23.195913Z",
          "iopub.status.idle": "2024-01-12T11:19:23.24711Z",
          "shell.execute_reply.started": "2024-01-12T11:19:23.195863Z",
          "shell.execute_reply": "2024-01-12T11:19:23.245698Z"
        },
        "trusted": true,
        "id": "wIFgGyUta02S"
      },
      "execution_count": null,
      "outputs": []
    },
    {
      "cell_type": "code",
      "source": [
        "df.drop(df[df['class'] == 0].index, inplace=True)"
      ],
      "metadata": {
        "execution": {
          "iopub.status.busy": "2024-01-12T11:19:23.248713Z",
          "iopub.execute_input": "2024-01-12T11:19:23.249076Z",
          "iopub.status.idle": "2024-01-12T11:19:23.628589Z",
          "shell.execute_reply.started": "2024-01-12T11:19:23.249042Z",
          "shell.execute_reply": "2024-01-12T11:19:23.627341Z"
        },
        "trusted": true,
        "id": "Q0rs0dfBa02S"
      },
      "execution_count": null,
      "outputs": []
    },
    {
      "cell_type": "code",
      "source": [
        "df.head()"
      ],
      "metadata": {
        "execution": {
          "iopub.status.busy": "2024-01-12T11:19:23.630157Z",
          "iopub.execute_input": "2024-01-12T11:19:23.630606Z",
          "iopub.status.idle": "2024-01-12T11:19:23.650769Z",
          "shell.execute_reply.started": "2024-01-12T11:19:23.630574Z",
          "shell.execute_reply": "2024-01-12T11:19:23.649404Z"
        },
        "trusted": true,
        "id": "wpfR--eEa02U"
      },
      "execution_count": null,
      "outputs": []
    },
    {
      "cell_type": "code",
      "source": [
        "all_labels_present = df.groupby('class')['label'].nunique() == 36\n",
        "# use .unquniq() == 36 to check if all class have 36 unique label\n",
        "all_labels_present"
      ],
      "metadata": {
        "execution": {
          "iopub.status.busy": "2024-01-12T11:19:23.656014Z",
          "iopub.execute_input": "2024-01-12T11:19:23.65657Z",
          "iopub.status.idle": "2024-01-12T11:19:23.741141Z",
          "shell.execute_reply.started": "2024-01-12T11:19:23.656531Z",
          "shell.execute_reply": "2024-01-12T11:19:23.73996Z"
        },
        "trusted": true,
        "id": "PGSaLfiAa02U"
      },
      "execution_count": null,
      "outputs": []
    },
    {
      "cell_type": "code",
      "source": [
        "# check how many label in class = 7\n",
        "class_7_data = df[df['class'] == 7]\n",
        "class_7_label_counts = class_7_data.groupby('label').size().reset_index(name='count')\n",
        "class_7_label_counts"
      ],
      "metadata": {
        "execution": {
          "iopub.status.busy": "2024-01-12T11:19:23.742692Z",
          "iopub.execute_input": "2024-01-12T11:19:23.743124Z",
          "iopub.status.idle": "2024-01-12T11:19:23.765427Z",
          "shell.execute_reply.started": "2024-01-12T11:19:23.743095Z",
          "shell.execute_reply": "2024-01-12T11:19:23.764225Z"
        },
        "trusted": true,
        "id": "sEdF_H7La02V"
      },
      "execution_count": null,
      "outputs": []
    },
    {
      "cell_type": "code",
      "source": [
        "data = df[df['class'] != 7]"
      ],
      "metadata": {
        "execution": {
          "iopub.status.busy": "2024-01-12T11:19:23.767154Z",
          "iopub.execute_input": "2024-01-12T11:19:23.767894Z",
          "iopub.status.idle": "2024-01-12T11:19:23.855523Z",
          "shell.execute_reply.started": "2024-01-12T11:19:23.76785Z",
          "shell.execute_reply": "2024-01-12T11:19:23.85436Z"
        },
        "trusted": true,
        "id": "ecPv-d3Sa02W"
      },
      "execution_count": null,
      "outputs": []
    },
    {
      "cell_type": "code",
      "source": [
        "data['class'].value_counts()"
      ],
      "metadata": {
        "execution": {
          "iopub.status.busy": "2024-01-12T11:19:23.856926Z",
          "iopub.execute_input": "2024-01-12T11:19:23.857333Z",
          "iopub.status.idle": "2024-01-12T11:19:23.883031Z",
          "shell.execute_reply.started": "2024-01-12T11:19:23.857289Z",
          "shell.execute_reply": "2024-01-12T11:19:23.881717Z"
        },
        "trusted": true,
        "id": "b-cKAbgba02W"
      },
      "execution_count": null,
      "outputs": []
    },
    {
      "cell_type": "code",
      "source": [
        "subjects_data = data.groupby(['label','class'])"
      ],
      "metadata": {
        "execution": {
          "iopub.status.busy": "2024-01-12T11:19:23.884618Z",
          "iopub.execute_input": "2024-01-12T11:19:23.885554Z",
          "iopub.status.idle": "2024-01-12T11:19:23.894241Z",
          "shell.execute_reply.started": "2024-01-12T11:19:23.885505Z",
          "shell.execute_reply": "2024-01-12T11:19:23.892796Z"
        },
        "trusted": true,
        "id": "37eQ5ZYQa02X"
      },
      "execution_count": null,
      "outputs": []
    },
    {
      "cell_type": "code",
      "source": [
        "import pandas as pd\n",
        "\n",
        "# Assuming you have loaded your dataset into a DataFrame named df\n",
        "class_counts = data.groupby('class').size().reset_index(name='count')\n",
        "\n",
        "print('Class distribution:')\n",
        "print(class_counts)"
      ],
      "metadata": {
        "execution": {
          "iopub.status.busy": "2024-01-12T11:19:23.896037Z",
          "iopub.execute_input": "2024-01-12T11:19:23.896829Z",
          "iopub.status.idle": "2024-01-12T11:19:23.942297Z",
          "shell.execute_reply.started": "2024-01-12T11:19:23.89677Z",
          "shell.execute_reply": "2024-01-12T11:19:23.941071Z"
        },
        "trusted": true,
        "id": "dgt_JeH9a02X"
      },
      "execution_count": null,
      "outputs": []
    },
    {
      "cell_type": "code",
      "source": [
        "data"
      ],
      "metadata": {
        "execution": {
          "iopub.status.busy": "2024-01-12T11:19:23.944052Z",
          "iopub.execute_input": "2024-01-12T11:19:23.944808Z",
          "iopub.status.idle": "2024-01-12T11:19:23.972426Z",
          "shell.execute_reply.started": "2024-01-12T11:19:23.944761Z",
          "shell.execute_reply": "2024-01-12T11:19:23.971286Z"
        },
        "trusted": true,
        "id": "_Y7XBQiLa02X"
      },
      "execution_count": null,
      "outputs": []
    },
    {
      "cell_type": "code",
      "source": [
        "data.drop('label', inplace=True, axis=1)\n",
        "\n"
      ],
      "metadata": {
        "execution": {
          "iopub.status.busy": "2024-01-12T11:19:23.974042Z",
          "iopub.execute_input": "2024-01-12T11:19:23.97475Z",
          "iopub.status.idle": "2024-01-12T11:19:24.023947Z",
          "shell.execute_reply.started": "2024-01-12T11:19:23.974708Z",
          "shell.execute_reply": "2024-01-12T11:19:24.022151Z"
        },
        "trusted": true,
        "id": "z9Jnqeoqa02Y"
      },
      "execution_count": null,
      "outputs": []
    },
    {
      "cell_type": "code",
      "source": [
        "data.info()"
      ],
      "metadata": {
        "execution": {
          "iopub.status.busy": "2024-01-12T11:19:24.025905Z",
          "iopub.execute_input": "2024-01-12T11:19:24.02651Z",
          "iopub.status.idle": "2024-01-12T11:19:24.07737Z",
          "shell.execute_reply.started": "2024-01-12T11:19:24.026465Z",
          "shell.execute_reply": "2024-01-12T11:19:24.076097Z"
        },
        "trusted": true,
        "id": "60mSn7Spa02Y"
      },
      "execution_count": null,
      "outputs": []
    },
    {
      "cell_type": "markdown",
      "source": [
        "# ***NORMALIZE PROCESS***"
      ],
      "metadata": {
        "id": "uREAPSgXa02Y"
      }
    },
    {
      "cell_type": "code",
      "source": [
        "def normalized(data):\n",
        "    min_value = np.min(data)\n",
        "    max_value = np.max(data)\n",
        "    normalized_data = (data - min_value) / (max_value - min_value)\n",
        "    return normalized_data"
      ],
      "metadata": {
        "execution": {
          "iopub.status.busy": "2024-01-12T11:19:24.079387Z",
          "iopub.execute_input": "2024-01-12T11:19:24.079838Z",
          "iopub.status.idle": "2024-01-12T11:19:24.086922Z",
          "shell.execute_reply.started": "2024-01-12T11:19:24.079795Z",
          "shell.execute_reply": "2024-01-12T11:19:24.085234Z"
        },
        "trusted": true,
        "id": "WstuRh4ja02a"
      },
      "execution_count": null,
      "outputs": []
    },
    {
      "cell_type": "markdown",
      "source": [
        "# ***THE SLIDING WINDOW - CNN1***"
      ],
      "metadata": {
        "id": "to5V1Dura02b"
      }
    },
    {
      "cell_type": "code",
      "source": [
        "def sliding_window(data, window_size, stride):\n",
        "    windowed_data = []\n",
        "    labels = []\n",
        "\n",
        "    for i in range(0, len(data) - window_size + 1, stride):\n",
        "        windowed = data.iloc[i:i+window_size, :-1].values  # Etiket sütununu hariç al ve NumPy array'e dönüştür\n",
        "        label = data.iloc[i+window_size-1, -1]  # Son sütunu etiket olarak kullan\n",
        "        windowed_data.append(windowed)\n",
        "        labels.append(label)\n",
        "\n",
        "    return np.array(windowed_data), np.array(labels)"
      ],
      "metadata": {
        "execution": {
          "iopub.status.busy": "2024-01-12T11:19:24.089871Z",
          "iopub.execute_input": "2024-01-12T11:19:24.090441Z",
          "iopub.status.idle": "2024-01-12T11:19:24.105512Z",
          "shell.execute_reply.started": "2024-01-12T11:19:24.090392Z",
          "shell.execute_reply": "2024-01-12T11:19:24.104168Z"
        },
        "trusted": true,
        "id": "MqRnrucZa02c"
      },
      "execution_count": null,
      "outputs": []
    },
    {
      "cell_type": "code",
      "source": [
        "window_size=150\n",
        "stride=30\n",
        "X, Y = sliding_window(data, 150, 30)"
      ],
      "metadata": {
        "execution": {
          "iopub.status.busy": "2024-01-12T11:19:24.107043Z",
          "iopub.execute_input": "2024-01-12T11:19:24.107497Z",
          "iopub.status.idle": "2024-01-12T11:19:36.134612Z",
          "shell.execute_reply.started": "2024-01-12T11:19:24.107448Z",
          "shell.execute_reply": "2024-01-12T11:19:36.132899Z"
        },
        "trusted": true,
        "id": "INMKh9_za02e"
      },
      "execution_count": null,
      "outputs": []
    },
    {
      "cell_type": "code",
      "source": [
        "X = normalized(X)"
      ],
      "metadata": {
        "execution": {
          "iopub.status.busy": "2024-01-12T11:19:36.136171Z",
          "iopub.execute_input": "2024-01-12T11:19:36.136536Z",
          "iopub.status.idle": "2024-01-12T11:19:36.552158Z",
          "shell.execute_reply.started": "2024-01-12T11:19:36.136497Z",
          "shell.execute_reply": "2024-01-12T11:19:36.550913Z"
        },
        "trusted": true,
        "id": "Y41TKscTa02e"
      },
      "execution_count": null,
      "outputs": []
    },
    {
      "cell_type": "markdown",
      "source": [
        "> Need to start the class from 0, because when you start class from 1, Keras accept [1,6) so the model does not work for class 6."
      ],
      "metadata": {
        "id": "XS90yl04a02f"
      }
    },
    {
      "cell_type": "code",
      "source": [
        "Y = Y - 1"
      ],
      "metadata": {
        "execution": {
          "iopub.status.busy": "2024-01-12T11:19:36.553525Z",
          "iopub.execute_input": "2024-01-12T11:19:36.553923Z",
          "iopub.status.idle": "2024-01-12T11:19:36.559755Z",
          "shell.execute_reply.started": "2024-01-12T11:19:36.55389Z",
          "shell.execute_reply": "2024-01-12T11:19:36.558349Z"
        },
        "trusted": true,
        "id": "Pq2mLEQea02g"
      },
      "execution_count": null,
      "outputs": []
    },
    {
      "cell_type": "code",
      "source": [
        "from sklearn.model_selection import train_test_split\n",
        "\n",
        "X_train, X_test, y_train, y_test = train_test_split(X, Y, test_size=0.2, random_state=42)"
      ],
      "metadata": {
        "execution": {
          "iopub.status.busy": "2024-01-12T11:19:36.562149Z",
          "iopub.execute_input": "2024-01-12T11:19:36.562631Z",
          "iopub.status.idle": "2024-01-12T11:19:36.742742Z",
          "shell.execute_reply.started": "2024-01-12T11:19:36.56259Z",
          "shell.execute_reply": "2024-01-12T11:19:36.741322Z"
        },
        "trusted": true,
        "id": "5Rfejg-ra02h"
      },
      "execution_count": null,
      "outputs": []
    },
    {
      "cell_type": "code",
      "source": [
        "from tensorflow.keras.models import Sequential\n",
        "from tensorflow.keras.layers import Conv1D, MaxPooling1D, Flatten, Dense\n",
        "\n",
        "def CNN_model(input_shape, num_classes):\n",
        "    model = Sequential()\n",
        "\n",
        "    # Convolutional layers\n",
        "    model.add(Conv1D(32, kernel_size=3, activation='relu', input_shape=input_shape))\n",
        "    model.add(MaxPooling1D(pool_size=2))\n",
        "\n",
        "    model.add(Conv1D(64, kernel_size=3, activation='relu'))\n",
        "    model.add(MaxPooling1D(pool_size=2))\n",
        "\n",
        "    # Flattening layers\n",
        "    model.add(Flatten())\n",
        "\n",
        "    # Full connected layers\n",
        "    model.add(Dense(128, activation='relu'))\n",
        "    model.add(Dense(num_classes, activation='softmax'))\n",
        "\n",
        "    # compile the model\n",
        "    model.compile(optimizer='adam', loss='sparse_categorical_crossentropy', metrics=['accuracy'])\n",
        "    model.summary()\n",
        "    return model"
      ],
      "metadata": {
        "execution": {
          "iopub.status.busy": "2024-01-12T11:19:36.744223Z",
          "iopub.execute_input": "2024-01-12T11:19:36.744706Z",
          "iopub.status.idle": "2024-01-12T11:19:52.487457Z",
          "shell.execute_reply.started": "2024-01-12T11:19:36.744669Z",
          "shell.execute_reply": "2024-01-12T11:19:52.485991Z"
        },
        "trusted": true,
        "id": "tkYOxIvsa02i"
      },
      "execution_count": null,
      "outputs": []
    },
    {
      "cell_type": "code",
      "source": [
        "# define the CNN model\n",
        "input_shape = X_train.shape[1:]  # set input size\n",
        "num_classes = len(np.unique(Y))   # set class size\n",
        "\n",
        "model = CNN_model(input_shape, num_classes)"
      ],
      "metadata": {
        "execution": {
          "iopub.status.busy": "2024-01-12T11:19:52.488814Z",
          "iopub.execute_input": "2024-01-12T11:19:52.489765Z",
          "iopub.status.idle": "2024-01-12T11:19:52.796723Z",
          "shell.execute_reply.started": "2024-01-12T11:19:52.489705Z",
          "shell.execute_reply": "2024-01-12T11:19:52.794865Z"
        },
        "trusted": true,
        "id": "0SIMhUR1a02j"
      },
      "execution_count": null,
      "outputs": []
    },
    {
      "cell_type": "code",
      "source": [
        "history = model.fit(X_train, y_train, epochs=10, validation_data=(X_test, y_test))"
      ],
      "metadata": {
        "execution": {
          "iopub.status.busy": "2024-01-12T11:19:52.79861Z",
          "iopub.execute_input": "2024-01-12T11:19:52.799014Z",
          "iopub.status.idle": "2024-01-12T11:23:16.479372Z",
          "shell.execute_reply.started": "2024-01-12T11:19:52.798981Z",
          "shell.execute_reply": "2024-01-12T11:23:16.478295Z"
        },
        "trusted": true,
        "id": "1HKRv3tKa02k"
      },
      "execution_count": null,
      "outputs": []
    },
    {
      "cell_type": "code",
      "source": [
        "from sklearn.metrics import accuracy_score, f1_score\n",
        "\n",
        "# make predictions on training data\n",
        "y_pred_train = model.predict(X_train)\n",
        "y_pred_train = np.argmax(y_pred_train, axis=1)  # One-hot encoding'den etiketlere dönüştür\n",
        "\n",
        "# make predictions on test data\n",
        "y_pred_test = model.predict(X_test)\n",
        "y_pred_test = np.argmax(y_pred_test, axis=1)  # One-hot encoding'den etiketlere dönüştür\n",
        "\n",
        "# calculate accuracy\n",
        "accuracy_training = accuracy_score(y_train, y_pred_train)\n",
        "accuracy_test = accuracy_score(y_test, y_pred_test)\n",
        "\n",
        "# calculate F1 score\n",
        "f1_training = f1_score(y_train, y_pred_train, average='weighted')\n",
        "f1_test = f1_score(y_test, y_pred_test, average='weighted')\n",
        "\n",
        "print(\"Training Accuracy:\", accuracy_training)\n",
        "print(\"Test Accuracy:\", accuracy_test)\n",
        "print(\"Training F1 Score:\", f1_training)\n",
        "print(\"Test F1 Score:\", f1_test)"
      ],
      "metadata": {
        "execution": {
          "iopub.status.busy": "2024-01-12T11:23:16.485439Z",
          "iopub.execute_input": "2024-01-12T11:23:16.48585Z",
          "iopub.status.idle": "2024-01-12T11:23:24.526098Z",
          "shell.execute_reply.started": "2024-01-12T11:23:16.485814Z",
          "shell.execute_reply": "2024-01-12T11:23:24.52469Z"
        },
        "trusted": true,
        "id": "cUxJxtEsa02k"
      },
      "execution_count": null,
      "outputs": []
    },
    {
      "cell_type": "code",
      "source": [
        "import matplotlib.pyplot as plt\n",
        "\n",
        "# training and testing loss graph\n",
        "plt.plot(history.history['loss'], label='Eğitim Kaybı')\n",
        "plt.plot(history.history['val_loss'], label='Test Kaybı')\n",
        "plt.legend()\n",
        "plt.show()"
      ],
      "metadata": {
        "execution": {
          "iopub.status.busy": "2024-01-12T11:23:24.528584Z",
          "iopub.execute_input": "2024-01-12T11:23:24.52953Z",
          "iopub.status.idle": "2024-01-12T11:23:24.852184Z",
          "shell.execute_reply.started": "2024-01-12T11:23:24.529483Z",
          "shell.execute_reply": "2024-01-12T11:23:24.851334Z"
        },
        "trusted": true,
        "id": "1Z-_sai0a02l"
      },
      "execution_count": null,
      "outputs": []
    },
    {
      "cell_type": "code",
      "source": [
        "from sklearn.metrics import confusion_matrix\n",
        "import seaborn as sns\n",
        "\n",
        "cm = confusion_matrix(y_test, y_pred_test)\n",
        "plt.figure(figsize=(6, 6))\n",
        "sns.heatmap(cm, annot=True, fmt=\"d\", cmap=\"Blues\", xticklabels=np.unique(y_test), yticklabels=np.unique(y_test))\n",
        "plt.title('Confusion Matrix SW')\n",
        "plt.xlabel('Predicted Labels SW')\n",
        "plt.ylabel('Real Labels SW')\n",
        "plt.show()"
      ],
      "metadata": {
        "execution": {
          "iopub.status.busy": "2024-01-12T11:23:24.853873Z",
          "iopub.execute_input": "2024-01-12T11:23:24.854219Z",
          "iopub.status.idle": "2024-01-12T11:23:25.544148Z",
          "shell.execute_reply.started": "2024-01-12T11:23:24.85419Z",
          "shell.execute_reply": "2024-01-12T11:23:25.542855Z"
        },
        "trusted": true,
        "id": "zrtoUn8Va02l"
      },
      "execution_count": null,
      "outputs": []
    },
    {
      "cell_type": "code",
      "source": [
        "from sklearn.metrics import classification_report\n",
        "\n",
        "# accuracy and F1 score of classes\n",
        "rapor = classification_report(y_test, y_pred_test, target_names=[str(i) for i in np.unique(y_test)])\n",
        "print(rapor)"
      ],
      "metadata": {
        "execution": {
          "iopub.status.busy": "2024-01-12T11:23:25.546151Z",
          "iopub.execute_input": "2024-01-12T11:23:25.547075Z",
          "iopub.status.idle": "2024-01-12T11:23:25.585488Z",
          "shell.execute_reply.started": "2024-01-12T11:23:25.547024Z",
          "shell.execute_reply": "2024-01-12T11:23:25.584318Z"
        },
        "trusted": true,
        "id": "ZqPRNoCTa02m"
      },
      "execution_count": null,
      "outputs": []
    },
    {
      "cell_type": "markdown",
      "source": [
        "# ***Root Mean Square (RMS) - CNN3***"
      ],
      "metadata": {
        "id": "NiJCJmILa02m"
      }
    },
    {
      "cell_type": "code",
      "source": [
        "import numpy as np\n",
        "from scipy.fft import fft\n",
        "from sklearn.model_selection import train_test_split\n",
        "from sklearn.preprocessing import StandardScaler\n",
        "from tensorflow.keras.models import Sequential\n",
        "from tensorflow.keras.layers import Conv1D, MaxPooling1D, Flatten, Dense\n",
        "\n",
        "def fourier_transform(X):\n",
        "    transformed_data = []\n",
        "\n",
        "    for item in X:\n",
        "        transformed_item = []\n",
        "        for channel in item.T:  # transpose the data and apply Fourier transform to each channel separately\n",
        "            fft_values = fft(channel)\n",
        "            transformed_item.append(np.abs(fft_values))  # only use amplitude information\n",
        "\n",
        "        transformed_data.append(np.array(transformed_item))\n",
        "\n",
        "    return np.array(transformed_data)"
      ],
      "metadata": {
        "execution": {
          "iopub.status.busy": "2024-01-12T11:23:49.81332Z",
          "iopub.execute_input": "2024-01-12T11:23:49.81379Z",
          "iopub.status.idle": "2024-01-12T11:23:49.822917Z",
          "shell.execute_reply.started": "2024-01-12T11:23:49.813757Z",
          "shell.execute_reply": "2024-01-12T11:23:49.821683Z"
        },
        "trusted": true,
        "id": "3cYdQLx1a02m"
      },
      "execution_count": null,
      "outputs": []
    },
    {
      "cell_type": "code",
      "source": [
        "# apply fourier transform\n",
        "transformed_X = fourier_transform(X)"
      ],
      "metadata": {
        "execution": {
          "iopub.status.busy": "2024-01-12T11:23:52.185327Z",
          "iopub.execute_input": "2024-01-12T11:23:52.18576Z",
          "iopub.status.idle": "2024-01-12T11:24:01.333073Z",
          "shell.execute_reply.started": "2024-01-12T11:23:52.185724Z",
          "shell.execute_reply": "2024-01-12T11:24:01.331307Z"
        },
        "trusted": true,
        "id": "Z6eUFaiNa02n"
      },
      "execution_count": null,
      "outputs": []
    },
    {
      "cell_type": "code",
      "source": [
        "transpoze_X = np.transpose(transformed_X, (0, 2, 1))"
      ],
      "metadata": {
        "execution": {
          "iopub.status.busy": "2024-01-12T11:24:01.336138Z",
          "iopub.execute_input": "2024-01-12T11:24:01.337466Z",
          "iopub.status.idle": "2024-01-12T11:24:01.343085Z",
          "shell.execute_reply.started": "2024-01-12T11:24:01.337417Z",
          "shell.execute_reply": "2024-01-12T11:24:01.341475Z"
        },
        "trusted": true,
        "id": "t867bKl7a02n"
      },
      "execution_count": null,
      "outputs": []
    },
    {
      "cell_type": "code",
      "source": [
        "# split the data into training and testing sets\n",
        "X_train_ft, X_test_ft, y_train_ft, y_test_ft = train_test_split(transpoze_X, Y, test_size=0.2, random_state=42)"
      ],
      "metadata": {
        "execution": {
          "iopub.status.busy": "2024-01-12T11:24:01.345039Z",
          "iopub.execute_input": "2024-01-12T11:24:01.345462Z",
          "iopub.status.idle": "2024-01-12T11:24:01.572597Z",
          "shell.execute_reply.started": "2024-01-12T11:24:01.345428Z",
          "shell.execute_reply": "2024-01-12T11:24:01.571426Z"
        },
        "trusted": true,
        "id": "YiL2cU9ba02o"
      },
      "execution_count": null,
      "outputs": []
    },
    {
      "cell_type": "code",
      "source": [
        "# define CNN model\n",
        "input_shape = X_train_ft.shape[1:]  # set input size\n",
        "num_classes = len(np.unique(Y))   # set class size\n",
        "\n",
        "model_ft = CNN_model(input_shape, num_classes)"
      ],
      "metadata": {
        "execution": {
          "iopub.status.busy": "2024-01-12T11:24:01.575122Z",
          "iopub.execute_input": "2024-01-12T11:24:01.57562Z",
          "iopub.status.idle": "2024-01-12T11:24:01.707571Z",
          "shell.execute_reply.started": "2024-01-12T11:24:01.575574Z",
          "shell.execute_reply": "2024-01-12T11:24:01.706575Z"
        },
        "trusted": true,
        "id": "uPkGymWia02p"
      },
      "execution_count": null,
      "outputs": []
    },
    {
      "cell_type": "code",
      "source": [
        "history_ft = model_ft.fit(X_train_ft, y_train_ft, epochs=10, validation_data=(X_test_ft, y_test_ft))"
      ],
      "metadata": {
        "execution": {
          "iopub.status.busy": "2024-01-12T11:24:07.008347Z",
          "iopub.execute_input": "2024-01-12T11:24:07.008839Z",
          "iopub.status.idle": "2024-01-12T11:26:37.185176Z",
          "shell.execute_reply.started": "2024-01-12T11:24:07.008805Z",
          "shell.execute_reply": "2024-01-12T11:26:37.183984Z"
        },
        "trusted": true,
        "id": "OXlgjKqSa02p"
      },
      "execution_count": null,
      "outputs": []
    },
    {
      "cell_type": "code",
      "source": [
        "from sklearn.metrics import accuracy_score, f1_score\n",
        "\n",
        "# make predictions on training data\n",
        "y_pred_train_ft = model_ft.predict(X_train_ft)\n",
        "y_pred_train_ft = np.argmax(y_pred_train_ft, axis=1)  # convert from one-hot encoding to tags\n",
        "\n",
        "# make predictions on test data\n",
        "y_pred_test_ft = model_ft.predict(X_test_ft)\n",
        "y_pred_test_ft = np.argmax(y_pred_test_ft, axis=1)  # convert from one-hot encoding to tags\n",
        "\n",
        "# calculate accuracy\n",
        "accuracy_training_ft = accuracy_score(y_train_ft, y_pred_train_ft)\n",
        "accuracy_test_ft= accuracy_score(y_test_ft, y_pred_test_ft)\n",
        "\n",
        "# calculate F1 score\n",
        "f1_training_ft = f1_score(y_train_ft, y_pred_train_ft, average='weighted')\n",
        "f1_test_ft = f1_score(y_test_ft, y_pred_test_ft, average='weighted')\n",
        "\n",
        "print(\"Eğitim Doğruluğu FT:\", accuracy_training_ft)\n",
        "print(\"Test Doğruluğu FT:\", accuracy_test_ft)\n",
        "print(\"Eğitim F1 Skoru FT:\", f1_training_ft)\n",
        "print(\"Test F1 Skoru FT:\", f1_test_ft)"
      ],
      "metadata": {
        "execution": {
          "iopub.status.busy": "2024-01-12T11:26:37.187746Z",
          "iopub.execute_input": "2024-01-12T11:26:37.188141Z",
          "iopub.status.idle": "2024-01-12T11:26:46.143805Z",
          "shell.execute_reply.started": "2024-01-12T11:26:37.188107Z",
          "shell.execute_reply": "2024-01-12T11:26:46.142139Z"
        },
        "trusted": true,
        "id": "-J7lcJPMa02p"
      },
      "execution_count": null,
      "outputs": []
    },
    {
      "cell_type": "code",
      "source": [
        "from sklearn.metrics import confusion_matrix\n",
        "import seaborn as sns\n",
        "\n",
        "cm_ft = confusion_matrix(y_test, y_pred_test_ft)\n",
        "plt.figure(figsize=(6, 6))\n",
        "sns.heatmap(cm_ft, annot=True, fmt=\"d\", cmap=\"Blues\", xticklabels=np.unique(y_test), yticklabels=np.unique(y_test))\n",
        "plt.title('Confusion Matrix FT')\n",
        "plt.xlabel('Predicted Labels FT')\n",
        "plt.ylabel('Real Labels FT')\n",
        "plt.show()"
      ],
      "metadata": {
        "execution": {
          "iopub.status.busy": "2024-01-12T11:26:46.630316Z",
          "iopub.execute_input": "2024-01-12T11:26:46.630711Z",
          "iopub.status.idle": "2024-01-12T11:26:47.133659Z",
          "shell.execute_reply.started": "2024-01-12T11:26:46.630678Z",
          "shell.execute_reply": "2024-01-12T11:26:47.132403Z"
        },
        "trusted": true,
        "id": "MMIIhu43a02q"
      },
      "execution_count": null,
      "outputs": []
    },
    {
      "cell_type": "code",
      "source": [
        "from sklearn.metrics import classification_report\n",
        "\n",
        "# accuracy and F1 score of classes\n",
        "rapor_ft = classification_report(y_test, y_pred_test_ft, target_names=[str(i) for i in np.unique(y_test)])\n",
        "print(rapor_ft)"
      ],
      "metadata": {
        "execution": {
          "iopub.status.busy": "2024-01-12T11:26:47.135246Z",
          "iopub.execute_input": "2024-01-12T11:26:47.135698Z",
          "iopub.status.idle": "2024-01-12T11:26:47.1736Z",
          "shell.execute_reply.started": "2024-01-12T11:26:47.135663Z",
          "shell.execute_reply": "2024-01-12T11:26:47.172138Z"
        },
        "trusted": true,
        "id": "cZ1rd29ya02q"
      },
      "execution_count": null,
      "outputs": []
    },
    {
      "cell_type": "markdown",
      "source": [
        "# ***Root Mean Square (RMS) - CNN3***"
      ],
      "metadata": {
        "id": "5adRs4vNa02q"
      }
    },
    {
      "cell_type": "code",
      "source": [
        "X.shape"
      ],
      "metadata": {
        "execution": {
          "iopub.status.busy": "2024-01-12T11:40:52.066562Z",
          "iopub.execute_input": "2024-01-12T11:40:52.066992Z",
          "iopub.status.idle": "2024-01-12T11:40:52.074958Z",
          "shell.execute_reply.started": "2024-01-12T11:40:52.066959Z",
          "shell.execute_reply": "2024-01-12T11:40:52.073604Z"
        },
        "trusted": true,
        "id": "pc3wsbila02r"
      },
      "execution_count": null,
      "outputs": []
    },
    {
      "cell_type": "code",
      "source": [
        "import numpy as np\n",
        "\n",
        "# apply RMS\n",
        "rms_data = np.sqrt(np.mean(np.square(X), axis=1))"
      ],
      "metadata": {
        "execution": {
          "iopub.status.busy": "2024-01-12T11:41:18.337066Z",
          "iopub.execute_input": "2024-01-12T11:41:18.337529Z",
          "iopub.status.idle": "2024-01-12T11:41:18.758358Z",
          "shell.execute_reply.started": "2024-01-12T11:41:18.337495Z",
          "shell.execute_reply": "2024-01-12T11:41:18.756125Z"
        },
        "trusted": true,
        "id": "5NcXt6Zua02r"
      },
      "execution_count": null,
      "outputs": []
    },
    {
      "cell_type": "code",
      "source": [
        "rms_data.shape"
      ],
      "metadata": {
        "execution": {
          "iopub.status.busy": "2024-01-12T11:41:22.381327Z",
          "iopub.execute_input": "2024-01-12T11:41:22.381775Z",
          "iopub.status.idle": "2024-01-12T11:41:22.387972Z",
          "shell.execute_reply.started": "2024-01-12T11:41:22.381744Z",
          "shell.execute_reply": "2024-01-12T11:41:22.387123Z"
        },
        "trusted": true,
        "id": "3PR9Nbpda02r"
      },
      "execution_count": null,
      "outputs": []
    },
    {
      "cell_type": "code",
      "source": [
        "# making data three-dimensional\n",
        "rms_data = np.expand_dims(rms_data, axis=-1)"
      ],
      "metadata": {
        "execution": {
          "iopub.status.busy": "2024-01-12T11:41:42.24388Z",
          "iopub.execute_input": "2024-01-12T11:41:42.244331Z",
          "iopub.status.idle": "2024-01-12T11:41:42.250406Z",
          "shell.execute_reply.started": "2024-01-12T11:41:42.244296Z",
          "shell.execute_reply": "2024-01-12T11:41:42.249218Z"
        },
        "trusted": true,
        "id": "oQfBeuKKa02s"
      },
      "execution_count": null,
      "outputs": []
    },
    {
      "cell_type": "code",
      "source": [
        "rms_data.shape"
      ],
      "metadata": {
        "execution": {
          "iopub.status.busy": "2024-01-12T11:41:50.50076Z",
          "iopub.execute_input": "2024-01-12T11:41:50.501212Z",
          "iopub.status.idle": "2024-01-12T11:41:50.509578Z",
          "shell.execute_reply.started": "2024-01-12T11:41:50.501177Z",
          "shell.execute_reply": "2024-01-12T11:41:50.507942Z"
        },
        "trusted": true,
        "id": "amF-R5USa02s"
      },
      "execution_count": null,
      "outputs": []
    },
    {
      "cell_type": "code",
      "source": [
        "# check the shape\n",
        "print(\"Original shape:\", X.shape)\n",
        "print(\"Shape After RMS Processing:\", rms_data.shape)"
      ],
      "metadata": {
        "execution": {
          "iopub.status.busy": "2024-01-12T11:42:06.102283Z",
          "iopub.execute_input": "2024-01-12T11:42:06.102739Z",
          "iopub.status.idle": "2024-01-12T11:42:06.109392Z",
          "shell.execute_reply.started": "2024-01-12T11:42:06.102705Z",
          "shell.execute_reply": "2024-01-12T11:42:06.108126Z"
        },
        "trusted": true,
        "id": "7i4-VC_-a02s"
      },
      "execution_count": null,
      "outputs": []
    },
    {
      "cell_type": "code",
      "source": [
        "# split the data into trainig and test\n",
        "X_train_rms, X_test_rms, y_train_rms, y_test_rms = train_test_split(rms_data, Y, test_size=0.2, random_state=42)"
      ],
      "metadata": {
        "execution": {
          "iopub.status.busy": "2024-01-12T11:42:16.050481Z",
          "iopub.execute_input": "2024-01-12T11:42:16.050895Z",
          "iopub.status.idle": "2024-01-12T11:42:16.065464Z",
          "shell.execute_reply.started": "2024-01-12T11:42:16.050865Z",
          "shell.execute_reply": "2024-01-12T11:42:16.063808Z"
        },
        "trusted": true,
        "id": "JLZZExpRa02t"
      },
      "execution_count": null,
      "outputs": []
    },
    {
      "cell_type": "code",
      "source": [
        "from tensorflow.keras.models import Sequential\n",
        "from tensorflow.keras.layers import Conv1D, MaxPooling1D, Flatten, Dense\n",
        "\n",
        "def CNN_model_rms(input_shape, num_classes):\n",
        "    model = Sequential()\n",
        "\n",
        "    # Convolutional Layers\n",
        "    model.add(Conv1D(32, kernel_size=3, activation='relu', input_shape=input_shape))\n",
        "    model.add(MaxPooling1D(pool_size=2))\n",
        "\n",
        "    model.add(Conv1D(64, kernel_size=3, activation='relu'))\n",
        "    model.add(MaxPooling1D(pool_size=1))\n",
        "\n",
        "    # Flattening Layer\n",
        "    model.add(Flatten())\n",
        "\n",
        "    # Full Connected Layers\n",
        "    model.add(Dense(128, activation='relu'))\n",
        "    model.add(Dense(num_classes, activation='softmax'))\n",
        "\n",
        "    # compile the model\n",
        "    model.compile(optimizer='adam', loss='sparse_categorical_crossentropy', metrics=['accuracy'])\n",
        "    model.summary()\n",
        "    return model"
      ],
      "metadata": {
        "execution": {
          "iopub.status.busy": "2024-01-12T11:42:33.396209Z",
          "iopub.execute_input": "2024-01-12T11:42:33.39668Z",
          "iopub.status.idle": "2024-01-12T11:42:33.407788Z",
          "shell.execute_reply.started": "2024-01-12T11:42:33.396646Z",
          "shell.execute_reply": "2024-01-12T11:42:33.405957Z"
        },
        "trusted": true,
        "id": "OLI9Rttia02u"
      },
      "execution_count": null,
      "outputs": []
    },
    {
      "cell_type": "code",
      "source": [
        "X_train_rms.shape"
      ],
      "metadata": {
        "execution": {
          "iopub.status.busy": "2024-01-12T11:42:22.444567Z",
          "iopub.execute_input": "2024-01-12T11:42:22.445036Z",
          "iopub.status.idle": "2024-01-12T11:42:22.453725Z",
          "shell.execute_reply.started": "2024-01-12T11:42:22.445003Z",
          "shell.execute_reply": "2024-01-12T11:42:22.452309Z"
        },
        "trusted": true,
        "id": "XaV7VWNTa02v"
      },
      "execution_count": null,
      "outputs": []
    },
    {
      "cell_type": "code",
      "source": [
        "# define CNN model\n",
        "input_shape_rms = X_train_rms.shape[1:]  # set input size\n",
        "num_classes_rms = len(np.unique(Y))   # set class size\n",
        "\n",
        "model_rms = CNN_model_rms(input_shape_rms, num_classes_rms)"
      ],
      "metadata": {
        "execution": {
          "iopub.status.busy": "2024-01-12T11:42:38.247243Z",
          "iopub.execute_input": "2024-01-12T11:42:38.247697Z",
          "iopub.status.idle": "2024-01-12T11:42:38.389175Z",
          "shell.execute_reply.started": "2024-01-12T11:42:38.247662Z",
          "shell.execute_reply": "2024-01-12T11:42:38.387707Z"
        },
        "trusted": true,
        "id": "LWwFJ1e5a02v"
      },
      "execution_count": null,
      "outputs": []
    },
    {
      "cell_type": "code",
      "source": [
        "history_rms = model_rms.fit(X_train_rms, y_train_rms, epochs=10, validation_data=(X_test_rms, y_test_rms))"
      ],
      "metadata": {
        "execution": {
          "iopub.status.busy": "2024-01-12T11:42:42.002551Z",
          "iopub.execute_input": "2024-01-12T11:42:42.00304Z",
          "iopub.status.idle": "2024-01-12T11:43:19.103716Z",
          "shell.execute_reply.started": "2024-01-12T11:42:42.002999Z",
          "shell.execute_reply": "2024-01-12T11:43:19.102671Z"
        },
        "trusted": true,
        "id": "nsly79mJa02w"
      },
      "execution_count": null,
      "outputs": []
    },
    {
      "cell_type": "code",
      "source": [
        "from sklearn.metrics import accuracy_score, f1_score\n",
        "\n",
        "# Predict on training data\n",
        "y_pred_train_rms = model_rms.predict(X_train_rms)\n",
        "y_pred_train_rms = np.argmax(y_pred_train_rms, axis=1)  # One-hot encoding'den etiketlere dönüştür\n",
        "\n",
        "# Predict on test data\n",
        "y_pred_test_rms = model_rms.predict(X_test_rms)\n",
        "y_pred_test_rms = np.argmax(y_pred_test_rms, axis=1)  # One-hot encoding'den etiketlere dönüştür\n",
        "\n",
        "# calculate accuracy\n",
        "accuracy_training_rms = accuracy_score(y_train_rms, y_pred_train_rms)\n",
        "accuracy_test_rms = accuracy_score(y_test_rms, y_pred_test_rms)\n",
        "\n",
        "# calculate F1 score\n",
        "f1_training_rms = f1_score(y_train_rms, y_pred_train_rms, average='weighted')\n",
        "f1_test_rms = f1_score(y_test_rms, y_pred_test_rms, average='weighted')\n",
        "\n",
        "print(\"Training Accuracy RMS:\", accuracy_training_rms)\n",
        "print(\"Test Accuracy RMS:\", accuracy_test_rms)\n",
        "print(\"Training F1 Score RMS:\", f1_training_rms)\n",
        "print(\"Test F1 Score RMS:\", f1_test_rms)"
      ],
      "metadata": {
        "execution": {
          "iopub.status.busy": "2024-01-12T11:43:24.456073Z",
          "iopub.execute_input": "2024-01-12T11:43:24.457497Z",
          "iopub.status.idle": "2024-01-12T11:43:27.380018Z",
          "shell.execute_reply.started": "2024-01-12T11:43:24.457451Z",
          "shell.execute_reply": "2024-01-12T11:43:27.378235Z"
        },
        "trusted": true,
        "id": "v-YGkwX-a02x"
      },
      "execution_count": null,
      "outputs": []
    },
    {
      "cell_type": "code",
      "source": [
        "from sklearn.metrics import classification_report\n",
        "\n",
        "# accuracy and F1 score of classes\n",
        "rapor_rms = classification_report(y_test, y_pred_test_rms, target_names=[str(i) for i in np.unique(y_test)])\n",
        "print(rapor_rms)"
      ],
      "metadata": {
        "execution": {
          "iopub.status.busy": "2024-01-12T11:43:30.400829Z",
          "iopub.execute_input": "2024-01-12T11:43:30.401274Z",
          "iopub.status.idle": "2024-01-12T11:43:30.439313Z",
          "shell.execute_reply.started": "2024-01-12T11:43:30.401227Z",
          "shell.execute_reply": "2024-01-12T11:43:30.438363Z"
        },
        "trusted": true,
        "id": "Yny5ZpNia02y"
      },
      "execution_count": null,
      "outputs": []
    },
    {
      "cell_type": "code",
      "source": [
        "from sklearn.metrics import confusion_matrix\n",
        "import seaborn as sns\n",
        "\n",
        "cm_rms = confusion_matrix(y_test, y_pred_test_rms)\n",
        "plt.figure(figsize=(6, 6))\n",
        "sns.heatmap(cm_rms, annot=True, fmt=\"d\", cmap=\"Blues\", xticklabels=np.unique(y_test), yticklabels=np.unique(y_test))\n",
        "plt.title('Confusion Matrix RMS')\n",
        "plt.xlabel('Predicted Labels RMS')\n",
        "plt.ylabel('Real Labels RMS')\n",
        "plt.show()"
      ],
      "metadata": {
        "execution": {
          "iopub.status.busy": "2024-01-12T11:43:33.047009Z",
          "iopub.execute_input": "2024-01-12T11:43:33.048229Z",
          "iopub.status.idle": "2024-01-12T11:43:33.558907Z",
          "shell.execute_reply.started": "2024-01-12T11:43:33.048175Z",
          "shell.execute_reply": "2024-01-12T11:43:33.557757Z"
        },
        "trusted": true,
        "id": "8EZmG8tPa02y"
      },
      "execution_count": null,
      "outputs": []
    }
  ]
}